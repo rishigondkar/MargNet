{
 "cells": [
  {
   "cell_type": "code",
   "execution_count": 1,
   "id": "e7d10872",
   "metadata": {
    "_cell_guid": "b1076dfc-b9ad-4769-8c92-a6c4dae69d19",
    "_uuid": "8f2839f25d086af736a60e9eeb907d3b93b6e0e5",
    "papermill": {
     "duration": 5.757507,
     "end_time": "2022-02-07T11:08:07.481173",
     "exception": false,
     "start_time": "2022-02-07T11:08:01.723666",
     "status": "completed"
    },
    "tags": []
   },
   "outputs": [],
   "source": [
    "import os\n",
    "import numpy as np\n",
    "np.random.seed(69)\n",
    "import pandas as pd\n",
    "import random\n",
    "import pickle as pkl\n",
    "import matplotlib.pyplot as plt\n",
    "import matplotlib.image as img\n",
    "import seaborn as sns\n",
    "sns.set()\n",
    "import tensorflow as tf\n",
    "from tqdm.notebook import tqdm\n",
    "from tensorflow.keras.utils import to_categorical, plot_model\n",
    "from tensorflow.keras.models import Sequential\n",
    "from tensorflow.keras.layers import Dense,concatenate, Dropout, Flatten, Conv2D, MaxPool2D, BatchNormalization, ZeroPadding2D, LeakyReLU, ReLU, AveragePooling2D\n",
    "from tensorflow.keras.preprocessing.image import ImageDataGenerator\n",
    "from tensorflow.keras.callbacks import ReduceLROnPlateau, EarlyStopping\n",
    "from tensorflow.keras.models import load_model\n",
    "from sklearn import metrics\n",
    "from sklearn import preprocessing\n",
    "from sklearn.model_selection import train_test_split\n",
    "from sklearn.ensemble import RandomForestClassifier\n",
    "import time"
   ]
  },
  {
   "cell_type": "code",
   "execution_count": 2,
   "id": "b8c58b90",
   "metadata": {
    "papermill": {
     "duration": 0.021978,
     "end_time": "2022-02-07T11:08:07.515152",
     "exception": false,
     "start_time": "2022-02-07T11:08:07.493174",
     "status": "completed"
    },
    "tags": []
   },
   "outputs": [],
   "source": [
    "def get_metrics(y_pred, y_test, labels, to_print=True):\n",
    "    correct_labels = np.where(y_pred==y_test)[0]\n",
    "    accuracy = metrics.accuracy_score(y_test, y_pred)\n",
    "    precision = metrics.precision_score(y_test, y_pred,average='macro')\n",
    "    recall = metrics.recall_score(y_test, y_pred,average='macro')\n",
    "    f1score = metrics.f1_score(y_test, y_pred,average='macro')\n",
    "    # rocscore = metrics.roc_auc_score(y_test, y_pred,average='micro',multi_class=\"ovo\")\n",
    "    confusion_matrix = metrics.confusion_matrix(y_test, y_pred)  \n",
    "    classification_report = metrics.classification_report(y_test, y_pred)\n",
    "\n",
    "    if to_print:\n",
    "        print(\"Identified {} correct labels out of {} labels\".format(len(correct_labels), y_test.shape[0]))\n",
    "        print(\"Accuracy:\",accuracy)\n",
    "        print(\"Precision:\",precision)\n",
    "        print(\"Recall:\",recall)\n",
    "        print(\"F1 Score:\",f1score)\n",
    "        # print(\"ROC AUC Score:\",rocscore)\n",
    "        print(f\"Labels are: {labels}\")\n",
    "        print(\"Confusion Matrix:\\n\", confusion_matrix)\n",
    "        print(\"Classification_Report:\\n\", classification_report)\n",
    "\n",
    "    return (correct_labels, accuracy, precision, recall, confusion_matrix, classification_report)"
   ]
  },
  {
   "cell_type": "code",
   "execution_count": 3,
   "id": "d6365b5a",
   "metadata": {
    "papermill": {
     "duration": 7.292739,
     "end_time": "2022-02-07T11:08:14.818754",
     "exception": false,
     "start_time": "2022-02-07T11:08:07.526015",
     "status": "completed"
    },
    "tags": []
   },
   "outputs": [],
   "source": [
    "dnnx_sgq = np.load(\"../dataset/dnnx_sgq.npy\")\n",
    "X_sgq = np.load(\"../dataset/X_sgq.npy\")\n",
    "y_sgq = np.load(\"../dataset/y_sgq.npy\")"
   ]
  },
  {
   "cell_type": "code",
   "execution_count": 4,
   "id": "bd399dd5",
   "metadata": {
    "papermill": {
     "duration": 12.309017,
     "end_time": "2022-02-07T11:08:27.139691",
     "exception": false,
     "start_time": "2022-02-07T11:08:14.830674",
     "status": "completed"
    },
    "tags": []
   },
   "outputs": [],
   "source": [
    "sgqcnn = load_model(\"../../Experiment 1/Star-Galaxy-QSO/output/CNNClassifier.h5\")\n",
    "sgqdnn = load_model(\"../../Experiment 1/Star-Galaxy-QSO/output/DNNClassifier.h5\")\n",
    "sgqensemble = load_model(\"../../Experiment 1/Star-Galaxy-QSO/output/EnsembleClassifier.h5\")"
   ]
  },
  {
   "cell_type": "code",
   "execution_count": 5,
   "id": "0fe6c678",
   "metadata": {
    "papermill": {
     "duration": 0.021502,
     "end_time": "2022-02-07T11:08:27.174441",
     "exception": false,
     "start_time": "2022-02-07T11:08:27.152939",
     "status": "completed"
    },
    "tags": []
   },
   "outputs": [],
   "source": [
    "def print_preds(model, inp, y, mode):\n",
    "    preds = model.predict(inp)\n",
    "    if mode == \"sg\":\n",
    "        lab = ['GALAXY', 'STAR']\n",
    "    elif mode==\"sgq\":\n",
    "        lab = ['GALAXY', 'QSO', 'STAR']\n",
    "    \n",
    "    print(get_metrics(preds.argmax(axis=1), y.argmax(axis=1),labels=lab))"
   ]
  },
  {
   "cell_type": "markdown",
   "id": "4ea2eee0",
   "metadata": {
    "papermill": {
     "duration": 0.014441,
     "end_time": "2022-02-07T11:08:57.580132",
     "exception": false,
     "start_time": "2022-02-07T11:08:57.565691",
     "status": "completed"
    },
    "tags": []
   },
   "source": [
    "# Star-Galaxy-QSO"
   ]
  },
  {
   "cell_type": "code",
   "execution_count": 6,
   "id": "39869c42",
   "metadata": {
    "papermill": {
     "duration": 0.935608,
     "end_time": "2022-02-07T11:08:58.530252",
     "exception": false,
     "start_time": "2022-02-07T11:08:57.594644",
     "status": "completed"
    },
    "tags": []
   },
   "outputs": [
    {
     "name": "stdout",
     "output_type": "stream",
     "text": [
      "892/892 [==============================] - 3s 3ms/step\n",
      "Identified 20844 correct labels out of 28532 labels\n",
      "Accuracy: 0.7305481564559092\n",
      "Precision: 0.7632056447044034\n",
      "Recall: 0.7305437027312776\n",
      "F1 Score: 0.7266103079308271\n",
      "Labels are: ['GALAXY', 'QSO', 'STAR']\n",
      "Confusion Matrix:\n",
      " [[9104  353   54]\n",
      " [3537 5739  234]\n",
      " [1029 2481 6001]]\n",
      "Classification_Report:\n",
      "               precision    recall  f1-score   support\n",
      "\n",
      "           0       0.67      0.96      0.79      9511\n",
      "           1       0.67      0.60      0.63      9510\n",
      "           2       0.95      0.63      0.76      9511\n",
      "\n",
      "    accuracy                           0.73     28532\n",
      "   macro avg       0.76      0.73      0.73     28532\n",
      "weighted avg       0.76      0.73      0.73     28532\n",
      "\n",
      "(array([    0,     1,     2, ..., 28522, 28524, 28526]), 0.7305481564559092, 0.7632056447044034, 0.7305437027312776, array([[9104,  353,   54],\n",
      "       [3537, 5739,  234],\n",
      "       [1029, 2481, 6001]]), '              precision    recall  f1-score   support\\n\\n           0       0.67      0.96      0.79      9511\\n           1       0.67      0.60      0.63      9510\\n           2       0.95      0.63      0.76      9511\\n\\n    accuracy                           0.73     28532\\n   macro avg       0.76      0.73      0.73     28532\\nweighted avg       0.76      0.73      0.73     28532\\n')\n"
     ]
    }
   ],
   "source": [
    "print(\"DNN\")\n",
    "print_preds(sgqdnn, dnnx_sgq, y_sgq, mode=\"sgq\")"
   ]
  },
  {
   "cell_type": "code",
   "execution_count": 7,
   "id": "377c5b56",
   "metadata": {
    "papermill": {
     "duration": 11.749503,
     "end_time": "2022-02-07T11:09:10.295061",
     "exception": false,
     "start_time": "2022-02-07T11:08:58.545558",
     "status": "completed"
    },
    "tags": []
   },
   "outputs": [
    {
     "name": "stdout",
     "output_type": "stream",
     "text": [
      "CNN\n",
      "892/892 [==============================] - 206s 231ms/step\n",
      "Identified 19812 correct labels out of 28532 labels\n",
      "Accuracy: 0.6943782419739241\n",
      "Precision: 0.7388082659734255\n",
      "Recall: 0.6943750706424642\n",
      "F1 Score: 0.6878229927231948\n",
      "Labels are: ['GALAXY', 'QSO', 'STAR']\n",
      "Confusion Matrix:\n",
      " [[8955  438  118]\n",
      " [3513 5743  254]\n",
      " [1875 2522 5114]]\n",
      "Classification_Report:\n",
      "               precision    recall  f1-score   support\n",
      "\n",
      "           0       0.62      0.94      0.75      9511\n",
      "           1       0.66      0.60      0.63      9510\n",
      "           2       0.93      0.54      0.68      9511\n",
      "\n",
      "    accuracy                           0.69     28532\n",
      "   macro avg       0.74      0.69      0.69     28532\n",
      "weighted avg       0.74      0.69      0.69     28532\n",
      "\n",
      "(array([    1,     2,     3, ..., 28513, 28522, 28524]), 0.6943782419739241, 0.7388082659734255, 0.6943750706424642, array([[8955,  438,  118],\n",
      "       [3513, 5743,  254],\n",
      "       [1875, 2522, 5114]]), '              precision    recall  f1-score   support\\n\\n           0       0.62      0.94      0.75      9511\\n           1       0.66      0.60      0.63      9510\\n           2       0.93      0.54      0.68      9511\\n\\n    accuracy                           0.69     28532\\n   macro avg       0.74      0.69      0.69     28532\\nweighted avg       0.74      0.69      0.69     28532\\n')\n"
     ]
    }
   ],
   "source": [
    "print(\"CNN\")\n",
    "print_preds(sgqcnn, X_sgq, y_sgq, mode=\"sgq\")"
   ]
  },
  {
   "cell_type": "code",
   "execution_count": 8,
   "id": "2ac8a669",
   "metadata": {
    "papermill": {
     "duration": 11.676817,
     "end_time": "2022-02-07T11:09:21.997926",
     "exception": false,
     "start_time": "2022-02-07T11:09:10.321109",
     "status": "completed"
    },
    "tags": []
   },
   "outputs": [
    {
     "name": "stdout",
     "output_type": "stream",
     "text": [
      "Ensemble\n",
      "892/892 [==============================] - 139s 155ms/step\n",
      "Identified 20929 correct labels out of 28532 labels\n",
      "Accuracy: 0.7335272676293285\n",
      "Precision: 0.765392689360764\n",
      "Recall: 0.7335222267219653\n",
      "F1 Score: 0.7292032470010293\n",
      "Labels are: ['GALAXY', 'QSO', 'STAR']\n",
      "Confusion Matrix:\n",
      " [[9170  288   53]\n",
      " [3616 5608  286]\n",
      " [1112 2248 6151]]\n",
      "Classification_Report:\n",
      "               precision    recall  f1-score   support\n",
      "\n",
      "           0       0.66      0.96      0.78      9511\n",
      "           1       0.69      0.59      0.64      9510\n",
      "           2       0.95      0.65      0.77      9511\n",
      "\n",
      "    accuracy                           0.73     28532\n",
      "   macro avg       0.77      0.73      0.73     28532\n",
      "weighted avg       0.77      0.73      0.73     28532\n",
      "\n",
      "(array([    0,     1,     2, ..., 28509, 28522, 28524]), 0.7335272676293285, 0.765392689360764, 0.7335222267219653, array([[9170,  288,   53],\n",
      "       [3616, 5608,  286],\n",
      "       [1112, 2248, 6151]]), '              precision    recall  f1-score   support\\n\\n           0       0.66      0.96      0.78      9511\\n           1       0.69      0.59      0.64      9510\\n           2       0.95      0.65      0.77      9511\\n\\n    accuracy                           0.73     28532\\n   macro avg       0.77      0.73      0.73     28532\\nweighted avg       0.77      0.73      0.73     28532\\n')\n"
     ]
    }
   ],
   "source": [
    "print(\"Ensemble\")\n",
    "print_preds(sgqensemble, [X_sgq, dnnx_sgq], y_sgq, mode=\"sgq\")"
   ]
  },
  {
   "cell_type": "code",
   "execution_count": 9,
   "id": "b9f2ec14",
   "metadata": {
    "papermill": {
     "duration": 11.679067,
     "end_time": "2022-02-07T11:09:33.693886",
     "exception": false,
     "start_time": "2022-02-07T11:09:22.014819",
     "status": "completed"
    },
    "tags": []
   },
   "outputs": [
    {
     "name": "stdout",
     "output_type": "stream",
     "text": [
      "892/892 [==============================] - 134s 150ms/step\n"
     ]
    },
    {
     "data": {
      "image/png": "[encoded data removed]",
      "text/plain": [
       "<Figure size 1000x700 with 2 Axes>"
      ]
     },
     "metadata": {},
     "output_type": "display_data"
    }
   ],
   "source": [
    "cm = metrics.confusion_matrix(sgqensemble.predict([X_sgq, dnnx_sgq]).argmax(axis=1),\n",
    "                              y_sgq.argmax(axis=1),\n",
    "                              normalize='true')\n",
    "df_cm = pd.DataFrame(cm, index = ['GALAXY', 'QSO', 'STAR'],columns = ['GALAXY', 'QSO', 'STAR'])\n",
    "plt.figure(figsize = (10,7))\n",
    "sns.heatmap(df_cm, annot=True,cmap=\"Blues\",square=True,fmt='.2%')\n",
    "plt.savefig(\"output/ensemble_cm_sgq.pdf\")"
   ]
  }
 ],
 "metadata": {
  "kernelspec": {
   "display_name": "Python 3 (ipykernel)",
   "language": "python",
   "name": "python3"
  },
  "language_info": {
   "codemirror_mode": {
    "name": "ipython",
    "version": 3
   },
   "file_extension": ".py",
   "mimetype": "text/x-python",
   "name": "python",
   "nbconvert_exporter": "python",
   "pygments_lexer": "ipython3",
   "version": "3.9.12"
  },
  "papermill": {
   "default_parameters": {},
   "duration": 103.373685,
   "end_time": "2022-02-07T11:09:37.342544",
   "environment_variables": {},
   "exception": null,
   "input_path": "__notebook__.ipynb",
   "output_path": "__notebook__.ipynb",
   "parameters": {},
   "start_time": "2022-02-07T11:07:53.968859",
   "version": "2.3.3"
  }
 },
 "nbformat": 4,
 "nbformat_minor": 5
}
