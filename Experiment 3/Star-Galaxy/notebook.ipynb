{
 "cells": [
  {
   "cell_type": "code",
   "execution_count": 1,
   "id": "e7d10872",
   "metadata": {
    "_cell_guid": "b1076dfc-b9ad-4769-8c92-a6c4dae69d19",
    "_uuid": "8f2839f25d086af736a60e9eeb907d3b93b6e0e5",
    "papermill": {
     "duration": 5.757507,
     "end_time": "2022-02-07T11:08:07.481173",
     "exception": false,
     "start_time": "2022-02-07T11:08:01.723666",
     "status": "completed"
    },
    "tags": []
   },
   "outputs": [],
   "source": [
    "import os\n",
    "import numpy as np\n",
    "np.random.seed(69)\n",
    "import pandas as pd\n",
    "import random\n",
    "import pickle as pkl\n",
    "import matplotlib.pyplot as plt\n",
    "import matplotlib.image as img\n",
    "import seaborn as sns\n",
    "sns.set()\n",
    "import tensorflow as tf\n",
    "from tqdm.notebook import tqdm\n",
    "from tensorflow.keras.utils import to_categorical, plot_model\n",
    "from tensorflow.keras.models import Sequential\n",
    "from tensorflow.keras.layers import Dense,concatenate, Dropout, Flatten, Conv2D, MaxPool2D, BatchNormalization, ZeroPadding2D, LeakyReLU, ReLU, AveragePooling2D\n",
    "from tensorflow.keras.preprocessing.image import ImageDataGenerator\n",
    "from tensorflow.keras.callbacks import ReduceLROnPlateau, EarlyStopping\n",
    "from tensorflow.keras.models import load_model\n",
    "from sklearn import metrics\n",
    "from sklearn import preprocessing\n",
    "from sklearn.model_selection import train_test_split\n",
    "from sklearn.ensemble import RandomForestClassifier\n",
    "import time"
   ]
  },
  {
   "cell_type": "code",
   "execution_count": 2,
   "id": "b8c58b90",
   "metadata": {
    "papermill": {
     "duration": 0.021978,
     "end_time": "2022-02-07T11:08:07.515152",
     "exception": false,
     "start_time": "2022-02-07T11:08:07.493174",
     "status": "completed"
    },
    "tags": []
   },
   "outputs": [],
   "source": [
    "def get_metrics(y_pred, y_test, labels, to_print=True):\n",
    "    correct_labels = np.where(y_pred==y_test)[0]\n",
    "    accuracy = metrics.accuracy_score(y_test, y_pred)\n",
    "    precision = metrics.precision_score(y_test, y_pred,average='macro')\n",
    "    recall = metrics.recall_score(y_test, y_pred,average='macro')\n",
    "    f1score = metrics.f1_score(y_test, y_pred,average='macro')\n",
    "    # rocscore = metrics.roc_auc_score(y_test, y_pred,average='micro',multi_class=\"ovo\")\n",
    "    confusion_matrix = metrics.confusion_matrix(y_test, y_pred)  \n",
    "    classification_report = metrics.classification_report(y_test, y_pred)\n",
    "\n",
    "    if to_print:\n",
    "        print(\"Identified {} correct labels out of {} labels\".format(len(correct_labels), y_test.shape[0]))\n",
    "        print(\"Accuracy:\",accuracy)\n",
    "        print(\"Precision:\",precision)\n",
    "        print(\"Recall:\",recall)\n",
    "        print(\"F1 Score:\",f1score)\n",
    "        # print(\"ROC AUC Score:\",rocscore)\n",
    "        print(f\"Labels are: {labels}\")\n",
    "        print(\"Confusion Matrix:\\n\", confusion_matrix)\n",
    "        print(\"Classification_Report:\\n\", classification_report)\n",
    "\n",
    "    return (correct_labels, accuracy, precision, recall, confusion_matrix, classification_report)"
   ]
  },
  {
   "cell_type": "code",
   "execution_count": 3,
   "id": "d6365b5a",
   "metadata": {
    "papermill": {
     "duration": 7.292739,
     "end_time": "2022-02-07T11:08:14.818754",
     "exception": false,
     "start_time": "2022-02-07T11:08:07.526015",
     "status": "completed"
    },
    "tags": []
   },
   "outputs": [],
   "source": [
    "dnnx_sg = np.load(\"../dataset/dnnx_sg.npy\")\n",
    "X_sg = np.load(\"../dataset/X_sg.npy\")\n",
    "y_sg = np.load(\"../dataset/y_sg.npy\")"
   ]
  },
  {
   "cell_type": "code",
   "execution_count": 4,
   "id": "bd399dd5",
   "metadata": {
    "papermill": {
     "duration": 12.309017,
     "end_time": "2022-02-07T11:08:27.139691",
     "exception": false,
     "start_time": "2022-02-07T11:08:14.830674",
     "status": "completed"
    },
    "tags": []
   },
   "outputs": [],
   "source": [
    "sgcnn = load_model(\"../../Experiment 1/Star-Galaxy/output/CNNClassifier.h5\")\n",
    "sgdnn = load_model(\"../../Experiment 1/Star-Galaxy/output/DNNClassifier.h5\")\n",
    "sgensemble = load_model(\"../../Experiment 1/Star-Galaxy/output/EnsembleClassifier.h5\")"
   ]
  },
  {
   "cell_type": "code",
   "execution_count": 5,
   "id": "0fe6c678",
   "metadata": {
    "papermill": {
     "duration": 0.021502,
     "end_time": "2022-02-07T11:08:27.174441",
     "exception": false,
     "start_time": "2022-02-07T11:08:27.152939",
     "status": "completed"
    },
    "tags": []
   },
   "outputs": [],
   "source": [
    "def print_preds(model, inp, y, mode):\n",
    "    preds = model.predict(inp)\n",
    "    if mode == \"sg\":\n",
    "        lab = ['GALAXY', 'STAR']\n",
    "    elif mode==\"sgq\":\n",
    "        lab = ['GALAXY', 'QSO', 'STAR']\n",
    "    \n",
    "    print(get_metrics(preds.argmax(axis=1), y.argmax(axis=1),labels=lab))"
   ]
  },
  {
   "cell_type": "markdown",
   "id": "0000c780",
   "metadata": {
    "papermill": {
     "duration": 0.012305,
     "end_time": "2022-02-07T11:08:27.199039",
     "exception": false,
     "start_time": "2022-02-07T11:08:27.186734",
     "status": "completed"
    },
    "tags": []
   },
   "source": [
    "# Star-Galaxy"
   ]
  },
  {
   "cell_type": "code",
   "execution_count": 6,
   "id": "a5465140",
   "metadata": {
    "papermill": {
     "duration": 1.610609,
     "end_time": "2022-02-07T11:08:28.822483",
     "exception": false,
     "start_time": "2022-02-07T11:08:27.211874",
     "status": "completed"
    },
    "tags": []
   },
   "outputs": [
    {
     "name": "stdout",
     "output_type": "stream",
     "text": [
      "595/595 [==============================] - 0s 581us/step\n",
      "Identified 17421 correct labels out of 19022 labels\n",
      "Accuracy: 0.9158342971296394\n",
      "Precision: 0.9239886874747518\n",
      "Recall: 0.9158342971296394\n",
      "F1 Score: 0.9154276613619725\n",
      "Labels are: ['GALAXY', 'STAR']\n",
      "Confusion Matrix:\n",
      " [[9370  141]\n",
      " [1460 8051]]\n",
      "Classification_Report:\n",
      "               precision    recall  f1-score   support\n",
      "\n",
      "           0       0.87      0.99      0.92      9511\n",
      "           1       0.98      0.85      0.91      9511\n",
      "\n",
      "    accuracy                           0.92     19022\n",
      "   macro avg       0.92      0.92      0.92     19022\n",
      "weighted avg       0.92      0.92      0.92     19022\n",
      "\n",
      "(array([    0,     1,     2, ..., 19019, 19020, 19021]), 0.9158342971296394, 0.9239886874747518, 0.9158342971296394, array([[9370,  141],\n",
      "       [1460, 8051]]), '              precision    recall  f1-score   support\\n\\n           0       0.87      0.99      0.92      9511\\n           1       0.98      0.85      0.91      9511\\n\\n    accuracy                           0.92     19022\\n   macro avg       0.92      0.92      0.92     19022\\nweighted avg       0.92      0.92      0.92     19022\\n')\n"
     ]
    }
   ],
   "source": [
    "print(\"DNN\")\n",
    "print_preds(sgdnn, dnnx_sg, y_sg, mode=\"sg\")"
   ]
  },
  {
   "cell_type": "code",
   "execution_count": 7,
   "id": "350c421d",
   "metadata": {
    "papermill": {
     "duration": 11.125883,
     "end_time": "2022-02-07T11:08:39.961171",
     "exception": false,
     "start_time": "2022-02-07T11:08:28.835288",
     "status": "completed"
    },
    "tags": []
   },
   "outputs": [
    {
     "name": "stdout",
     "output_type": "stream",
     "text": [
      "CNN\n",
      "595/595 [==============================] - 88s 148ms/step\n",
      "Identified 16986 correct labels out of 19022 labels\n",
      "Accuracy: 0.8929660393228893\n",
      "Precision: 0.903887521193596\n",
      "Recall: 0.8929660393228893\n",
      "F1 Score: 0.8922375408660068\n",
      "Labels are: ['GALAXY', 'STAR']\n",
      "Confusion Matrix:\n",
      " [[9275  236]\n",
      " [1800 7711]]\n",
      "Classification_Report:\n",
      "               precision    recall  f1-score   support\n",
      "\n",
      "           0       0.84      0.98      0.90      9511\n",
      "           1       0.97      0.81      0.88      9511\n",
      "\n",
      "    accuracy                           0.89     19022\n",
      "   macro avg       0.90      0.89      0.89     19022\n",
      "weighted avg       0.90      0.89      0.89     19022\n",
      "\n",
      "(array([    1,     2,     3, ..., 19019, 19020, 19021]), 0.8929660393228893, 0.903887521193596, 0.8929660393228893, array([[9275,  236],\n",
      "       [1800, 7711]]), '              precision    recall  f1-score   support\\n\\n           0       0.84      0.98      0.90      9511\\n           1       0.97      0.81      0.88      9511\\n\\n    accuracy                           0.89     19022\\n   macro avg       0.90      0.89      0.89     19022\\nweighted avg       0.90      0.89      0.89     19022\\n')\n"
     ]
    }
   ],
   "source": [
    "print(\"CNN\")\n",
    "print_preds(sgcnn, X_sg, y_sg, mode=\"sg\")"
   ]
  },
  {
   "cell_type": "code",
   "execution_count": 8,
   "id": "037e538d",
   "metadata": {
    "papermill": {
     "duration": 6.220016,
     "end_time": "2022-02-07T11:08:46.195195",
     "exception": false,
     "start_time": "2022-02-07T11:08:39.975179",
     "status": "completed"
    },
    "tags": []
   },
   "outputs": [
    {
     "name": "stdout",
     "output_type": "stream",
     "text": [
      "Ensemble\n",
      "595/595 [==============================] - 96s 161ms/step\n",
      "Identified 17491 correct labels out of 19022 labels\n",
      "Accuracy: 0.9195142466617601\n",
      "Precision: 0.9269239409209082\n",
      "Recall: 0.9195142466617601\n",
      "F1 Score: 0.9191634969642957\n",
      "Labels are: ['GALAXY', 'STAR']\n",
      "Confusion Matrix:\n",
      " [[9372  139]\n",
      " [1392 8119]]\n",
      "Classification_Report:\n",
      "               precision    recall  f1-score   support\n",
      "\n",
      "           0       0.87      0.99      0.92      9511\n",
      "           1       0.98      0.85      0.91      9511\n",
      "\n",
      "    accuracy                           0.92     19022\n",
      "   macro avg       0.93      0.92      0.92     19022\n",
      "weighted avg       0.93      0.92      0.92     19022\n",
      "\n",
      "(array([    0,     1,     2, ..., 19019, 19020, 19021]), 0.9195142466617601, 0.9269239409209082, 0.9195142466617601, array([[9372,  139],\n",
      "       [1392, 8119]]), '              precision    recall  f1-score   support\\n\\n           0       0.87      0.99      0.92      9511\\n           1       0.98      0.85      0.91      9511\\n\\n    accuracy                           0.92     19022\\n   macro avg       0.93      0.92      0.92     19022\\nweighted avg       0.93      0.92      0.92     19022\\n')\n"
     ]
    }
   ],
   "source": [
    "print(\"Ensemble\")\n",
    "print_preds(sgensemble, [X_sg, dnnx_sg], y_sg, mode=\"sg\")"
   ]
  },
  {
   "cell_type": "code",
   "execution_count": 9,
   "id": "b2ff4b64",
   "metadata": {
    "papermill": {
     "duration": 11.341933,
     "end_time": "2022-02-07T11:08:57.550975",
     "exception": false,
     "start_time": "2022-02-07T11:08:46.209042",
     "status": "completed"
    },
    "tags": []
   },
   "outputs": [
    {
     "name": "stdout",
     "output_type": "stream",
     "text": [
      "595/595 [==============================] - 132s 221ms/step\n"
     ]
    },
    {
     "data": {
      "image/png": "[encoded data removed]",
      "text/plain": [
       "<Figure size 1000x700 with 2 Axes>"
      ]
     },
     "metadata": {},
     "output_type": "display_data"
    }
   ],
   "source": [
    "cm = metrics.confusion_matrix(sgensemble.predict([X_sg, dnnx_sg]).argmax(axis=1),\n",
    "                              y_sg.argmax(axis=1),\n",
    "                              normalize='true')\n",
    "df_cm = pd.DataFrame(cm, index = ['GALAXY', 'STAR'],columns = ['GALAXY', 'STAR'])\n",
    "plt.figure(figsize = (10,7))\n",
    "sns.heatmap(df_cm, annot=True,cmap=\"Blues\",square=True,fmt='.2%')\n",
    "plt.savefig(\"output/ensemble_cm_sg.pdf\")"
   ]
  }
 ],
 "metadata": {
  "kernelspec": {
   "display_name": "Python 3 (ipykernel)",
   "language": "python",
   "name": "python3"
  },
  "language_info": {
   "codemirror_mode": {
    "name": "ipython",
    "version": 3
   },
   "file_extension": ".py",
   "mimetype": "text/x-python",
   "name": "python",
   "nbconvert_exporter": "python",
   "pygments_lexer": "ipython3",
   "version": "3.9.12"
  },
  "papermill": {
   "default_parameters": {},
   "duration": 103.373685,
   "end_time": "2022-02-07T11:09:37.342544",
   "environment_variables": {},
   "exception": null,
   "input_path": "__notebook__.ipynb",
   "output_path": "__notebook__.ipynb",
   "parameters": {},
   "start_time": "2022-02-07T11:07:53.968859",
   "version": "2.3.3"
  }
 },
 "nbformat": 4,
 "nbformat_minor": 5
}
